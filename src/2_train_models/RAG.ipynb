{
 "cells": [
  {
   "attachments": {},
   "cell_type": "markdown",
   "metadata": {},
   "source": [
    "# RAG\n",
    "\n",
    "## 1. Load DATA"
   ]
  },
  {
   "cell_type": "code",
   "execution_count": 1,
   "metadata": {},
   "outputs": [
    {
     "name": "stderr",
     "output_type": "stream",
     "text": [
      "/home/rdecoupe/mambaforge/envs/mood_luca_review_avian_flu/lib/python3.10/site-packages/tqdm/auto.py:21: TqdmWarning: IProgress not found. Please update jupyter and ipywidgets. See https://ipywidgets.readthedocs.io/en/stable/user_install.html\n",
      "  from .autonotebook import tqdm as notebook_tqdm\n",
      "2024-07-19 09:50:08.818730: I external/local_xla/xla/tsl/cuda/cudart_stub.cc:32] Could not find cuda drivers on your machine, GPU will not be used.\n",
      "2024-07-19 09:50:08.874873: I external/local_xla/xla/tsl/cuda/cudart_stub.cc:32] Could not find cuda drivers on your machine, GPU will not be used.\n",
      "2024-07-19 09:50:08.954107: E external/local_xla/xla/stream_executor/cuda/cuda_fft.cc:485] Unable to register cuFFT factory: Attempting to register factory for plugin cuFFT when one has already been registered\n",
      "2024-07-19 09:50:09.015682: E external/local_xla/xla/stream_executor/cuda/cuda_dnn.cc:8454] Unable to register cuDNN factory: Attempting to register factory for plugin cuDNN when one has already been registered\n",
      "2024-07-19 09:50:09.042629: E external/local_xla/xla/stream_executor/cuda/cuda_blas.cc:1452] Unable to register cuBLAS factory: Attempting to register factory for plugin cuBLAS when one has already been registered\n",
      "2024-07-19 09:50:09.167315: I tensorflow/core/platform/cpu_feature_guard.cc:210] This TensorFlow binary is optimized to use available CPU instructions in performance-critical operations.\n",
      "To enable the following instructions: AVX2 FMA, in other operations, rebuild TensorFlow with the appropriate compiler flags.\n",
      "2024-07-19 09:50:10.456030: W tensorflow/compiler/tf2tensorrt/utils/py_utils.cc:38] TF-TRT Warning: Could not find TensorRT\n"
     ]
    }
   ],
   "source": [
    "import pandas as pd\n",
    "import transformers\n",
    "from datasets import Dataset, DatasetDict, load_dataset\n",
    "from sklearn.model_selection import train_test_split\n",
    "import evaluate\n",
    "import numpy as np\n",
    "import pandas as pd\n",
    "import openpyxl\n",
    "import os\n",
    "from PyPDF2 import PdfReader\n",
    "import glob"
   ]
  },
  {
   "cell_type": "code",
   "execution_count": 2,
   "metadata": {},
   "outputs": [],
   "source": [
    "file_path = './data/quantitative_value_with_context_CC.xlsx'\n",
    "\n",
    "# Read the \"missing value\" worksheet\n",
    "missing_value_df = pd.read_excel(file_path, sheet_name='missing value')\n",
    "\n",
    "# Read the 'quantitative_value_with context' worksheet\n",
    "quantitative_value_df = pd.read_excel(file_path, sheet_name='quantitative_value_with context')\n",
    "# quantitative_value_df = quantitative_value_df.rename(columns={'Relevant context for MOOD data extraction': 'context'})\n",
    "\n",
    "missing_value_df['source'] = 'missing_value'\n",
    "quantitative_value_df['source'] = 'quantitative_value_with_context'\n",
    "\n",
    "# drop 3 lines corresponding to a Claudia's comment\n",
    "\"\"\"\n",
    "Missing values not found by the script. Articles: MB7, MB8, CC6-15-17-23-32\n",
    "\"\"\"\n",
    "missing_value_df = missing_value_df.drop(index=range(53, 56))\n",
    "\n",
    "# concatenate the 2 dataframe\n",
    "# df = pd.concat([missing_value_df, quantitative_value_df], ignore_index=True)\n",
    "df = quantitative_value_df\n",
    "\n",
    "usable_covariates = df[df[\"Relevant context for MOOD data extraction\"].str.lower().isin([\"yes\", \"Yes\"])]\n",
    "# usable_covariates = pd.concat([missing_value_df, usable_covariates])\n",
    "\n",
    "full_text_annotation = usable_covariates[usable_covariates[\"Mood extraction from Table/Figure\"].str.lower().isin([\"no\", \"No\"])]\n",
    "table_annotations = usable_covariates[usable_covariates[\"Mood extraction from Table/Figure\"].str.lower().isin([\"Table\", \"table\", \"table and caption\"])]\n",
    "figure_annotations = usable_covariates[usable_covariates[\"Mood extraction from Table/Figure\"].str.lower().isin([\"figure\", \"Figure\", \"Figure caption\"])]"
   ]
  },
  {
   "cell_type": "code",
   "execution_count": 3,
   "metadata": {},
   "outputs": [
    {
     "data": {
      "text/html": [
       "<div>\n",
       "<style scoped>\n",
       "    .dataframe tbody tr th:only-of-type {\n",
       "        vertical-align: middle;\n",
       "    }\n",
       "\n",
       "    .dataframe tbody tr th {\n",
       "        vertical-align: top;\n",
       "    }\n",
       "\n",
       "    .dataframe thead th {\n",
       "        text-align: right;\n",
       "    }\n",
       "</style>\n",
       "<table border=\"1\" class=\"dataframe\">\n",
       "  <thead>\n",
       "    <tr style=\"text-align: right;\">\n",
       "      <th></th>\n",
       "      <th>Unnamed: 0</th>\n",
       "      <th>ID</th>\n",
       "      <th>value</th>\n",
       "      <th>page</th>\n",
       "      <th>position</th>\n",
       "      <th>covariate_in_mood</th>\n",
       "      <th>covariate_found_in_text</th>\n",
       "      <th>covariate_fuzzy</th>\n",
       "      <th>context</th>\n",
       "      <th>non-standardized covariate in the context</th>\n",
       "      <th>Mood extraction from Table/Figure</th>\n",
       "      <th>Relevant context for MOOD data extraction</th>\n",
       "      <th>source</th>\n",
       "    </tr>\n",
       "  </thead>\n",
       "  <tbody>\n",
       "    <tr>\n",
       "      <th>0</th>\n",
       "      <td>0</td>\n",
       "      <td>CC13</td>\n",
       "      <td>-0.4763</td>\n",
       "      <td>15</td>\n",
       "      <td>2379</td>\n",
       "      <td>Humidity Absolute spatial scale</td>\n",
       "      <td>False</td>\n",
       "      <td>False</td>\n",
       "      <td>in Figs. S3 â€“S6. Absolute humidity was foun...</td>\n",
       "      <td>Absolute humidity</td>\n",
       "      <td>No</td>\n",
       "      <td>yes</td>\n",
       "      <td>quantitative_value_with_context</td>\n",
       "    </tr>\n",
       "  </tbody>\n",
       "</table>\n",
       "</div>"
      ],
      "text/plain": [
       "   Unnamed: 0    ID    value  page  position                covariate_in_mood  \\\n",
       "0           0  CC13  -0.4763    15      2379  Humidity Absolute spatial scale   \n",
       "\n",
       "   covariate_found_in_text covariate_fuzzy  \\\n",
       "0                    False           False   \n",
       "\n",
       "                                             context  \\\n",
       "0   in Figs. S3 â€“S6. Absolute humidity was foun...   \n",
       "\n",
       "  non-standardized covariate in the context Mood extraction from Table/Figure  \\\n",
       "0                         Absolute humidity                                No   \n",
       "\n",
       "  Relevant context for MOOD data extraction                           source  \n",
       "0                                       yes  quantitative_value_with_context  "
      ]
     },
     "execution_count": 3,
     "metadata": {},
     "output_type": "execute_result"
    }
   ],
   "source": [
    "df.head(1)"
   ]
  },
  {
   "cell_type": "code",
   "execution_count": 4,
   "metadata": {},
   "outputs": [
    {
     "data": {
      "text/html": [
       "<div>\n",
       "<style scoped>\n",
       "    .dataframe tbody tr th:only-of-type {\n",
       "        vertical-align: middle;\n",
       "    }\n",
       "\n",
       "    .dataframe tbody tr th {\n",
       "        vertical-align: top;\n",
       "    }\n",
       "\n",
       "    .dataframe thead th {\n",
       "        text-align: right;\n",
       "    }\n",
       "</style>\n",
       "<table border=\"1\" class=\"dataframe\">\n",
       "  <thead>\n",
       "    <tr style=\"text-align: right;\">\n",
       "      <th></th>\n",
       "      <th>context</th>\n",
       "    </tr>\n",
       "  </thead>\n",
       "  <tbody>\n",
       "    <tr>\n",
       "      <th>count</th>\n",
       "      <td>56</td>\n",
       "    </tr>\n",
       "    <tr>\n",
       "      <th>unique</th>\n",
       "      <td>55</td>\n",
       "    </tr>\n",
       "    <tr>\n",
       "      <th>top</th>\n",
       "      <td>variate and quadratic logistic regression Step...</td>\n",
       "    </tr>\n",
       "    <tr>\n",
       "      <th>freq</th>\n",
       "      <td>2</td>\n",
       "    </tr>\n",
       "  </tbody>\n",
       "</table>\n",
       "</div>"
      ],
      "text/plain": [
       "                                                  context\n",
       "count                                                  56\n",
       "unique                                                 55\n",
       "top     variate and quadratic logistic regression Step...\n",
       "freq                                                    2"
      ]
     },
     "execution_count": 4,
     "metadata": {},
     "output_type": "execute_result"
    }
   ],
   "source": [
    "usable_covariates[[\"context\"]].describe()\n"
   ]
  },
  {
   "cell_type": "code",
   "execution_count": 5,
   "metadata": {},
   "outputs": [
    {
     "data": {
      "text/plain": [
       "' in Figs. S3 â€“S6. Absolute humidity was found to be signiï¬\\x81cantly linked to epidemic onset dates at the spatial scale ( p= 0.029), but not at the other scales. The associated coefï¬\\x81cient was negative ( -0.4763). Mobility ï¬‚ows were not found to be signiï¬\\x81cantly linked to epidemic onset dates (p= 0.57 with the corrected model, p= 0.73 with the uncorrected model). In the corrected model, the coefï¬\\x81cient  \\t covariable found: False: '"
      ]
     },
     "execution_count": 5,
     "metadata": {},
     "output_type": "execute_result"
    }
   ],
   "source": [
    "d = f'{full_text_annotation.iloc[0][\"context\"]} \\t covariable found: {full_text_annotation.iloc[0][\"covariate_found_in_text\"]}: {(full_text_annotation.iloc[0][\"non-standardized covariate in the context\t\"] if full_text_annotation.iloc[0][\"covariate_found_in_text\"] else \"\")}'\n",
    "d"
   ]
  },
  {
   "cell_type": "code",
   "execution_count": 6,
   "metadata": {},
   "outputs": [
    {
     "name": "stdout",
     "output_type": "stream",
     "text": [
      "0     in Figs. S3 â€“S6. Absolute humidity was foun...\n",
      "Name: docs, dtype: object\n"
     ]
    },
    {
     "name": "stderr",
     "output_type": "stream",
     "text": [
      "/tmp/ipykernel_1160/2831026351.py:1: SettingWithCopyWarning: \n",
      "A value is trying to be set on a copy of a slice from a DataFrame.\n",
      "Try using .loc[row_indexer,col_indexer] = value instead\n",
      "\n",
      "See the caveats in the documentation: https://pandas.pydata.org/pandas-docs/stable/user_guide/indexing.html#returning-a-view-versus-a-copy\n",
      "  full_text_annotation[\"covariate_text\"] = full_text_annotation.apply(lambda row: row[\"non-standardized covariate in the context\"] if row[\"Relevant context for MOOD data extraction\"] else \"\", axis=1)\n",
      "/tmp/ipykernel_1160/2831026351.py:2: SettingWithCopyWarning: \n",
      "A value is trying to be set on a copy of a slice from a DataFrame.\n",
      "Try using .loc[row_indexer,col_indexer] = value instead\n",
      "\n",
      "See the caveats in the documentation: https://pandas.pydata.org/pandas-docs/stable/user_guide/indexing.html#returning-a-view-versus-a-copy\n",
      "  full_text_annotation[\"docs\"] = full_text_annotation.apply(lambda row: f'{row[\"context\"]} \\t covariable found: {row[\"covariate_found_in_text\"]}: {row[\"covariate_text\"]}', axis=1)\n"
     ]
    }
   ],
   "source": [
    "full_text_annotation[\"covariate_text\"] = full_text_annotation.apply(lambda row: row[\"non-standardized covariate in the context\"] if row[\"Relevant context for MOOD data extraction\"] else \"\", axis=1)\n",
    "full_text_annotation[\"docs\"] = full_text_annotation.apply(lambda row: f'{row[\"context\"]} \\t covariable found: {row[\"covariate_found_in_text\"]}: {row[\"covariate_text\"]}', axis=1)\n",
    "\n",
    "print(full_text_annotation[\"docs\"].head(1))\n"
   ]
  },
  {
   "cell_type": "code",
   "execution_count": 7,
   "metadata": {},
   "outputs": [
    {
     "name": "stdout",
     "output_type": "stream",
     "text": [
      "Nb of docs: 20\n"
     ]
    },
    {
     "data": {
      "text/plain": [
       "[' in Figs. S3 â€“S6. Absolute humidity was found to be signiï¬\\x81cantly linked to epidemic onset dates at the spatial scale ( p= 0.029), but not at the other scales. The associated coefï¬\\x81cient was negative ( -0.4763). Mobility ï¬‚ows were not found to be signiï¬\\x81cantly linked to epidemic onset dates (p= 0.57 with the corrected model, p= 0.73 with the uncorrected model). In the corrected model, the coefï¬\\x81cient  \\t covariable found: False: Absolute humidity',\n",
       " 'tion over the course of the outbreak together with the direction of the observed transmissions. The circular correlation coef ï¬\\x81cient between direction of observed transmissions and wind direction was 0.051, signi ï¬\\x81cantly higher than expected when directions were uniform and independent ( P=. 0 1 ) ( Supplementary Figure 1 ). The circular correlation coef ï¬\\x81cient was also signi ï¬\\x81cantly higher than e \\t covariable found: True: wind direction',\n",
       " 'direction of the wind by chance. Using these numbers and maximizing a likelihood equation (seeSupplementary Information, section 2 ), we estimated the percentage of transmissions caused by wind to be 18% (95% conï¬\\x81dence interval (CI), 6.3, 30). To test for robustness, we also performed a more detailed analysis, which assumes a Gaussianplume model for wind spread, puts a priority on the infection Fi \\t covariable found: False: transmissions caused by wind',\n",
       " 'rms. Based on the proportion of estimated transmissions for which wind direction was observed to be in the same direction of spread, we esti-mated the percentage of transmission related to wind to be 18%. Wind-related spread of avian in ï¬‚uenza has direct consequences for containment efforts. Farms emit vast quantities of particulate matter [ 8], which could carry viable virus [ 13]. Several techni \\t covariable found: False: transmission related to wind',\n",
       " '/NA-) andPBS were used as negative controls. H1 and H3 pseudotypes werecleaved in a dose-dependent manner, and higher proteolyticcleavage was observed with extreme concentration of trypsin as high as 100 or 500 mg.mL21(Figure 2A). However, even with high concentration of trypsin, more than 1.5 log 10RLU fold change was observed when H5 lentiviral production wascompared to H1 or H3 pseudotypes. Thi \\t covariable found: False: temperature, salinity',\n",
       " 'influenza activity rather than the actual low temperature. According to their study, a decrease in average temperature by 1 â—¦C increased the risk of influenza activity by 11%, and a decrease in AH of 0.5 g/m3 increased the risk by 58% ( 21). Apart from temperature and AH, solar radiation was negatively associated with influenzaseasonality in temperate regions ( 13,39,50). Climatic factors contribu \\t covariable found: False: AH (absolute humidity)',\n",
       " 'g10 (i.e. a 90% reduction in infectivity). These Rt values were based on the averages reported by Keeler et al. (2014) for resistance of 9 LPAIV strains in distilled, ï¬\\x81ltered and natural water (67.1, 3.1 and 30.0 days, respectively), and were also in accordance with previously published data (e.g. Stallknecht et al., 1991; Brown et al., 2009; Lebarbenchon et al., 2012 ). 2.7. The numerical model I \\t covariable found: False: filtered water ',\n",
       " '. a 90% reduction in infectivity). These Rt values were based on the averages reported by Keeler et al. (2014) for resistance of 9 LPAIV strains in distilled, ï¬\\x81ltered and natural water (67.1, 3.1 and 30.0 days, respectively), and were also in accordance with previously published data (e.g. Stallknecht et al., 1991; Brown et al., 2009; Lebarbenchon et al., 2012 ). 2.7. The numerical model In this s \\t covariable found: False: natural water',\n",
       " ' & Cairns  Flu A Temperature  36.5 Â±1.9 36.0 Â±6.1 28.8 Â±3.8 36.8 Â±3.7 17.1 Â±4.0 39.3 Â±3.6 38.1 Â±2.3 46.1 Â±1.9 38.5 Â±2.1 19.2 Â±2.3 34.0 Â±2.3  Relative humidity  14.5 Â±1.6 27.8 Â±4.5 33.9 Â±5.8 21.8 Â±4.2 21.2 Â±5.3 13.0 Â±2.3 18.5 Â±1.9 13.0 Â±1.4 16.2 Â±2.3 28.6 Â±2.6 18.3 Â±2.0  Precipitation  9.2 Â±1.6 5.9 Â±2.2 11.8 Â±3.1 0.4 Â±0.3 11.3 Â±3.6 9.7 Â±2.0 7.9 Â±1.2 6.0 Â±1.3 6.7 Â±1.2 9.7 Â±2.8 2.7 Â±0.6  Wind speed 1 \\t covariable found: False: Relative humidity ',\n",
       " 'on  between  temperature  and  microbial  activity.  No  difference  in  persistence  of  infectivity  was  observed  between  the  H5N7  and H7N1  subtypes.  The  R2-value  for  this  analysis  was  0.74.Along  the  infectivity  assays,  rRT-PCR  analysis  was performed  in  order  to  examining  the  detection  end-point by  this  more  sensitive  approach.  In  general,  the  detection end-poin \\t covariable found: False: Temperature',\n",
       " 'levant as it corresponds to the width of the poultrydense area in which the 2003 outbreak started [5]. Within this distance range, we estimate that the wind-borne route on its own could explain up to 24% of the new cases. Consequently, we conclude that the wind-borne route may have played a significantrole in the spread of HPAI during the Dutch 2003 epidemic although it was not the only transmissi \\t covariable found: False: wind-borne, distance',\n",
       " ' virus especially for longer distances. This conclusion is robust to changes in uncertain model parameters. We also estimate that, up until 25 km distance, wind-borne transmission could explain up to 24%of the observed infections. This latter percentage is subject to some uncertainty. Nevertheless, this result supports the need to identify supplementary mechanisms that aid the transportation of th \\t covariable found: False: wind-borne, distance',\n",
       " ' one standard deviation). TABLE 1 Estimated Z values for inï¬‚uenza aerosols determined at low, medium, and high relative humidity RH range (%)Estimated Zvalue95% conï¬\\x81denceinterval R 2Lower Upper 25â€“27 0.29 0.27 0.31 0.98550â€“54 0.27 0.26 0.31 0.99181â€“84 0.22 0.21 0.23 0.992McDevitt et al. 1668 aem.asm.org Applied and Environmental Microbiology on April 1, 2015 by UNIVERSITY OF STRATHCLYDE http://aem \\t covariable found: False: Relative humidity ',\n",
       " 'standard deviation). TABLE 1 Estimated Z values for inï¬‚uenza aerosols determined at low, medium, and high relative humidity RH range (%)Estimated Zvalue95% conï¬\\x81denceinterval R 2Lower Upper 25â€“27 0.29 0.27 0.31 0.98550â€“54 0.27 0.26 0.31 0.99181â€“84 0.22 0.21 0.23 0.992McDevitt et al. 1668 aem.asm.org Applied and Environmental Microbiology on April 1, 2015 by UNIVERSITY OF STRATHCLYDE http://aem.asm. \\t covariable found: False: Relative humidity ',\n",
       " ' for inï¬‚uenza aerosols determined at low, medium, and high relative humidity RH range (%)Estimated Zvalue95% conï¬\\x81denceinterval R 2Lower Upper 25â€“27 0.29 0.27 0.31 0.98550â€“54 0.27 0.26 0.31 0.99181â€“84 0.22 0.21 0.23 0.992McDevitt et al. 1668 aem.asm.org Applied and Environmental Microbiology on April 1, 2015 by UNIVERSITY OF STRATHCLYDE http://aem.asm.org/ Downloaded from \\t covariable found: False: Relative humidity ',\n",
       " 'Ãªme laboratoire ont dÃ©montrÃ© le rÃ´le de ces trois facteurs pour la stabilitÃ© virale. Lâ€™Ã©quipe de Stallknecht a ainsi testÃ© la persistance des virus inï¬‚uenza aviaires Ã\\xa0 17 ou 28â—¦C pour une salinitÃ© de 0 o u 2 % NaCl et un pH allant de 6,2 Ã\\xa0 8,2 [20, 21]. Ces travaux ont montrÃ© que dans des conditions de salinitÃ© modÃ©rÃ©e (2 % NaCl), la persistance du virus, maximale Ã\\xa0 pH 6,2, dÃ©croÃ®t aux pH plus Ã©le \\t covariable found: False: salinité',\n",
       " 'nce de particules viralesLÃ©gende : Individu infectÃ© Individu susceptible V oie de transmission RÃ©servoir abiotique ParamÃ¨tre en jeuMicro-gouttelette en suspensionDÃ©positionGouttelette projetÃ©e Figure 2. Voies de transmission des virus inï¬‚uenza A en milieu aquatique et aÃ©rien et facteurs environnementaux, inï¬‚uant sur la persistance virale dans lâ€™environnement. stabilitÃ© dans cet environnement reprÃ© \\t covariable found: False: salinité',\n",
       " 'elettes produites artiï¬\\x81ciellement Ã©tait favorisÃ©e par une RH faible [34]. De mÃªme, la transmission aÃ©rienne dâ€™une souche humaine chez le cochon dâ€™Inde Ã\\xa0 20â—¦C est plus efï¬\\x81cace pour une RH faible (20 Ã\\xa0 35 %) que pour des valeurs plus Ã©levÃ©es (50 et 80 %) (ï¬\\x81gure 3) [35]. NÃ©anmoins, certains isolats semblent Ãªtre plus stables Ã\\xa0 RH Ã©levÃ©e (70 %) que pour des valeurs intermÃ©diaires (50 %) [36]. Des modÃ¨ \\t covariable found: False: RH ',\n",
       " 'Ã©e par une RH faible [34]. De mÃªme, la transmission aÃ©rienne dâ€™une souche humaine chez le cochon dâ€™Inde Ã\\xa0 20â—¦C est plus efï¬\\x81cace pour une RH faible (20 Ã\\xa0 35 %) que pour des valeurs plus Ã©levÃ©es (50 et 80 %) (ï¬\\x81gure 3) [35]. NÃ©anmoins, certains isolats semblent Ãªtre plus stables Ã\\xa0 RH Ã©levÃ©e (70 %) que pour des valeurs intermÃ©diaires (50 %) [36]. Des modÃ¨les ont Ã©tÃ© conc Â¸us pour estimer la corrÃ©latio \\t covariable found: False: RH ',\n",
       " 'rale ne diffÃ©rait pas entre les individus Ã©levÃ©s Ã\\xa0 20 et 30â—¦C au cours de lâ€™Ã©tude suivante [38] aucune transmission aÃ©rienne nâ€™a eu lieu Ã\\xa0 30â—¦C quelle que soit lâ€™RH, tandis quâ€™Ã\\xa0 20â—¦C, seule une RH de 80 % inhibait totalement la transmission. Ces rÃ©sultats conï¬\\x81rment le rÃ´le de la tempÃ©rature sur la stabilitÃ© virale. Les modÃ¨les citÃ©s plus haut incorporant ces donnÃ©es montrent donc une meilleure tra \\t covariable found: False: RH ']"
      ]
     },
     "execution_count": 7,
     "metadata": {},
     "output_type": "execute_result"
    }
   ],
   "source": [
    "docs = full_text_annotation[\"docs\"].tolist()\n",
    "print(f\"Nb of docs: {len(docs)}\")\n",
    "docs"
   ]
  },
  {
   "cell_type": "code",
   "execution_count": 8,
   "metadata": {},
   "outputs": [
    {
     "data": {
      "text/plain": [
       "DatasetDict({\n",
       "    train: Dataset({\n",
       "        features: ['tokens', 'ner_tags', 'labels'],\n",
       "        num_rows: 12\n",
       "    })\n",
       "    test: Dataset({\n",
       "        features: ['tokens', 'ner_tags', 'labels'],\n",
       "        num_rows: 8\n",
       "    })\n",
       "})"
      ]
     },
     "execution_count": 8,
     "metadata": {},
     "output_type": "execute_result"
    }
   ],
   "source": [
    "dataset_dict = DatasetDict.load_from_disk(\"./data/annotation_generated_from_xlsx/annotation.dataset\")\n",
    "dataset_dict"
   ]
  },
  {
   "cell_type": "code",
   "execution_count": 9,
   "metadata": {},
   "outputs": [
    {
     "name": "stdout",
     "output_type": "stream",
     "text": [
      "0: one standard deviation ) . table 1 estimated z values for ini¬ ‚ uenza aerosols determined at low , medium , and high relative humidity rh range ( % ) estimated zvalue95 % coni¬denceinterval r 2lower upper 25a€ “ 27 0 . 29 0 . 27 0 . 31 0 . 98550a€ “ 54 0 . 27 0 . 26 0 . 31 0 . 99181a€ “ 84 0 . 22 0 . 21 0 . 23 0 . 992mcdevitt et al . 1668 aem . asm . org applied and environmental microbiology on april 1 , 2015 by university of strathclyde http : / / aem\n",
      "\t found !:  one standard deviation). TABLE 1 Estimated Z values for inï¬‚uenza aerosols determined at low, medium, and high relative humidity RH range (%)Estimated Zvalue95% conï¬denceinterval R 2Lower Upper 25â€“27 0.29 0.27 0.31 0.98550â€“54 0.27 0.26 0.31 0.99181â€“84 0.22 0.21 0.23 0.992McDevitt et al. 1668 aem.asm.org Applied and Environmental Microbiology on April 1, 2015 by UNIVERSITY OF STRATHCLYDE http://aem \t covariable found: False: Relative humidity \n",
      "1: standard deviation ) . table 1 estimated z values for ini¬ ‚ uenza aerosols determined at low , medium , and high relative humidity rh range ( % ) estimated zvalue95 % coni¬denceinterval r 2lower upper 25a€ “ 27 0 . 29 0 . 27 0 . 31 0 . 98550a€ “ 54 0 . 27 0 . 26 0 . 31 0 . 99181a€ “ 84 0 . 22 0 . 21 0 . 23 0 . 992mcdevitt et al . 1668 aem . asm . org applied and environmental microbiology on april 1 , 2015 by university of strathclyde http : / / aem . asm .\n",
      "\t found !: standard deviation). TABLE 1 Estimated Z values for inï¬‚uenza aerosols determined at low, medium, and high relative humidity RH range (%)Estimated Zvalue95% conï¬denceinterval R 2Lower Upper 25â€“27 0.29 0.27 0.31 0.98550â€“54 0.27 0.26 0.31 0.99181â€“84 0.22 0.21 0.23 0.992McDevitt et al. 1668 aem.asm.org Applied and Environmental Microbiology on April 1, 2015 by UNIVERSITY OF STRATHCLYDE http://aem.asm. \t covariable found: False: Relative humidity \n",
      "2: for ini¬ ‚ uenza aerosols determined at low , medium , and high relative humidity rh range ( % ) estimated zvalue95 % coni¬denceinterval r 2lower upper 25a€ “ 27 0 . 29 0 . 27 0 . 31 0 . 98550a€ “ 54 0 . 27 0 . 26 0 . 31 0 . 99181a€ “ 84 0 . 22 0 . 21 0 . 23 0 . 992mcdevitt et al . 1668 aem . asm . org applied and environmental microbiology on april 1 , 2015 by university of strathclyde http : / / aem . asm . org / downloaded from\n",
      "\t found !:  for inï¬‚uenza aerosols determined at low, medium, and high relative humidity RH range (%)Estimated Zvalue95% conï¬denceinterval R 2Lower Upper 25â€“27 0.29 0.27 0.31 0.98550â€“54 0.27 0.26 0.31 0.99181â€“84 0.22 0.21 0.23 0.992McDevitt et al. 1668 aem.asm.org Applied and Environmental Microbiology on April 1, 2015 by UNIVERSITY OF STRATHCLYDE http://aem.asm.org/ Downloaded from \t covariable found: False: Relative humidity \n",
      "3: aªme laboratoire ont da©montra© le ra´le de ces trois facteurs pour la stabilita© virale . la€™a©quipe de stallknecht a ainsi testa© la persistance des virus ini¬ ‚ uenza aviaires a 17 ou 28a — ¦c pour une salinita© de 0 o u 2 % nacl et un ph allant de 6 , 2 a 8 , 2 [ 20 , 21 ] . ces travaux ont montra© que dans des conditions de salinita© moda©ra©e ( 2 % nacl ) , la persistance du virus , maximale a ph 6 , 2 , da©croa®t aux ph plus a©le\n",
      "\t found !: Ãªme laboratoire ont dÃ©montrÃ© le rÃ´le de ces trois facteurs pour la stabilitÃ© virale. Lâ€™Ã©quipe de Stallknecht a ainsi testÃ© la persistance des virus inï¬‚uenza aviaires Ã  17 ou 28â—¦C pour une salinitÃ© de 0 o u 2 % NaCl et un pH allant de 6,2 Ã  8,2 [20, 21]. Ces travaux ont montrÃ© que dans des conditions de salinitÃ© modÃ©rÃ©e (2 % NaCl), la persistance du virus, maximale Ã  pH 6,2, dÃ©croÃ®t aux pH plus Ã©le \t covariable found: False: salinité\n",
      "4: nce de particules viralesla©gende : individu infecta© individu susceptible v oie de transmission ra©servoir abiotique parama¨tre en jeumicro - gouttelette en suspensionda©positiongouttelette projeta©e figure 2 . voies de transmission des virus ini¬ ‚ uenza a en milieu aquatique et aa©rien et facteurs environnementaux , ini¬ ‚ uant sur la persistance virale dans la€™environnement . stabilita© dans cet environnement repra©\n",
      "\t found !: nce de particules viralesLÃ©gende : Individu infectÃ© Individu susceptible V oie de transmission RÃ©servoir abiotique ParamÃ¨tre en jeuMicro-gouttelette en suspensionDÃ©positionGouttelette projetÃ©e Figure 2. Voies de transmission des virus inï¬‚uenza A en milieu aquatique et aÃ©rien et facteurs environnementaux, inï¬‚uant sur la persistance virale dans lâ€™environnement. stabilitÃ© dans cet environnement reprÃ© \t covariable found: False: salinité\n",
      "5: elettes produites artii¬ciellement a©tait favorisa©e par une rh faible [ 34 ] . de maªme , la transmission aa©rienne da€™une souche humaine chez le cochon da€™inde a 20a — ¦c est plus efi¬cace pour une rh faible ( 20 a 35 % ) que pour des valeurs plus a©leva©es ( 50 et 80 % ) ( i¬gure 3 ) [ 35 ] . na©anmoins , certains isolats semblent aªtre plus stables a rh a©leva©e ( 70 % ) que pour des valeurs interma©diaires ( 50 % ) [ 36 ] . des moda¨\n",
      "\t found !: elettes produites artiï¬ciellement Ã©tait favorisÃ©e par une RH faible [34]. De mÃªme, la transmission aÃ©rienne dâ€™une souche humaine chez le cochon dâ€™Inde Ã  20â—¦C est plus efï¬cace pour une RH faible (20 Ã  35 %) que pour des valeurs plus Ã©levÃ©es (50 et 80 %) (ï¬gure 3) [35]. NÃ©anmoins, certains isolats semblent Ãªtre plus stables Ã  RH Ã©levÃ©e (70 %) que pour des valeurs intermÃ©diaires (50 %) [36]. Des modÃ¨ \t covariable found: False: RH \n",
      "6: a©e par une rh faible [ 34 ] . de maªme , la transmission aa©rienne da€™une souche humaine chez le cochon da€™inde a 20a — ¦c est plus efi¬cace pour une rh faible ( 20 a 35 % ) que pour des valeurs plus a©leva©es ( 50 et 80 % ) ( i¬gure 3 ) [ 35 ] . na©anmoins , certains isolats semblent aªtre plus stables a rh a©leva©e ( 70 % ) que pour des valeurs interma©diaires ( 50 % ) [ 36 ] . des moda¨les ont a©ta© conc [UNK] pour estimer la corra©latio\n",
      "\t found !: Ã©e par une RH faible [34]. De mÃªme, la transmission aÃ©rienne dâ€™une souche humaine chez le cochon dâ€™Inde Ã  20â—¦C est plus efï¬cace pour une RH faible (20 Ã  35 %) que pour des valeurs plus Ã©levÃ©es (50 et 80 %) (ï¬gure 3) [35]. NÃ©anmoins, certains isolats semblent Ãªtre plus stables Ã  RH Ã©levÃ©e (70 %) que pour des valeurs intermÃ©diaires (50 %) [36]. Des modÃ¨les ont Ã©tÃ© conc Â¸us pour estimer la corrÃ©latio \t covariable found: False: RH \n",
      "7: rale ne diffa©rait pas entre les individus a©leva©s a 20 et 30a — ¦c au cours de la€™a©tude suivante [ 38 ] aucune transmission aa©rienne na€™a eu lieu a 30a — ¦c quelle que soit la€™rh , tandis qua€™a 20a — ¦c , seule une rh de 80 % inhibait totalement la transmission . ces ra©sultats coni¬rment le ra´le de la tempa©rature sur la stabilita© virale . les moda¨les cita©s plus haut incorporant ces donna©es montrent donc une meilleure tra\n",
      "\t found !: rale ne diffÃ©rait pas entre les individus Ã©levÃ©s Ã  20 et 30â—¦C au cours de lâ€™Ã©tude suivante [38] aucune transmission aÃ©rienne nâ€™a eu lieu Ã  30â—¦C quelle que soit lâ€™RH, tandis quâ€™Ã  20â—¦C, seule une RH de 80 % inhibait totalement la transmission. Ces rÃ©sultats conï¬rment le rÃ´le de la tempÃ©rature sur la stabilitÃ© virale. Les modÃ¨les citÃ©s plus haut incorporant ces donnÃ©es montrent donc une meilleure tra \t covariable found: False: RH \n"
     ]
    }
   ],
   "source": [
    "from difflib import SequenceMatcher\n",
    "import unicodedata\n",
    "\n",
    "train_docs_list = docs.copy()\n",
    "test_docs_list = []\n",
    "\n",
    "for i, sentence in enumerate(dataset_dict[\"test\"][\"tokens\"]):\n",
    "    s = \" \".join(sentence)\n",
    "    print(f\"{i}: {s}\")\n",
    "    for doc in docs:\n",
    "        doc_format = unicodedata.normalize(\"NFKD\", doc.lstrip())\n",
    "        if SequenceMatcher(None, doc_format.lower(), s.lower()).ratio() > 0.7:\n",
    "            # print(f\"{s.lower()} \\n\\t {doc_format.lower()}\")\n",
    "            # print(\"\\n\")\n",
    "            # print(f\"{s.lower()[0]} | {doc_format.lower()[0]}\")\n",
    "            if doc_format.lower()[0] == s.lower()[0]:\n",
    "                print(f\"\\t found !: {doc}\")\n",
    "                train_docs_list.remove(doc)\n",
    "                test_docs_list.append(doc)\n"
   ]
  },
  {
   "cell_type": "code",
   "execution_count": 10,
   "metadata": {},
   "outputs": [
    {
     "data": {
      "text/plain": [
       "12"
      ]
     },
     "execution_count": 10,
     "metadata": {},
     "output_type": "execute_result"
    }
   ],
   "source": [
    "len(train_docs_list)"
   ]
  },
  {
   "attachments": {},
   "cell_type": "markdown",
   "metadata": {},
   "source": [
    "## 2. Prepage RAG pipeline"
   ]
  },
  {
   "cell_type": "code",
   "execution_count": 11,
   "metadata": {},
   "outputs": [],
   "source": [
    "#from langchain.document_loaders import HuggingFaceDatasetLoader\n",
    "from langchain.text_splitter import RecursiveCharacterTextSplitter\n",
    "from langchain.embeddings import HuggingFaceEmbeddings\n",
    "from langchain.vectorstores import FAISS\n",
    "from transformers import AutoTokenizer, AutoModelForQuestionAnswering\n",
    "from transformers import AutoTokenizer, pipeline\n",
    "from langchain import HuggingFacePipeline\n",
    "#from langchain.chains import RetrievalQA"
   ]
  },
  {
   "cell_type": "code",
   "execution_count": 12,
   "metadata": {},
   "outputs": [
    {
     "name": "stderr",
     "output_type": "stream",
     "text": [
      "/home/rdecoupe/mambaforge/envs/mood_luca_review_avian_flu/lib/python3.10/site-packages/langchain_core/_api/deprecation.py:139: LangChainDeprecationWarning: The class `HuggingFaceEmbeddings` was deprecated in LangChain 0.2.2 and will be removed in 0.3.0. An updated version of the class exists in the langchain-huggingface package and should be used instead. To use it run `pip install -U langchain-huggingface` and import as `from langchain_huggingface import HuggingFaceEmbeddings`.\n",
      "  warn_deprecated(\n"
     ]
    }
   ],
   "source": [
    "modelPath = \"sentence-transformers/all-MiniLM-l6-v2\"\n",
    "\n",
    "# Create a dictionary with model configuration options, specifying to use the CPU for computations\n",
    "model_kwargs = {'device':'cpu'}\n",
    "\n",
    "# Create a dictionary with encoding options, specifically setting 'normalize_embeddings' to False\n",
    "encode_kwargs = {'normalize_embeddings': False}\n",
    "\n",
    "# Initialize an instance of HuggingFaceEmbeddings with the specified parameters\n",
    "embeddings = HuggingFaceEmbeddings(\n",
    "    model_name=modelPath,     # Provide the pre-trained model's path\n",
    "    model_kwargs=model_kwargs, # Pass the model configuration options\n",
    "    encode_kwargs=encode_kwargs # Pass the encoding options\n",
    ")"
   ]
  },
  {
   "cell_type": "code",
   "execution_count": 13,
   "metadata": {},
   "outputs": [],
   "source": [
    "text_splitter = RecursiveCharacterTextSplitter(chunk_size=1000, chunk_overlap=150)\n",
    "docs_for_rag = text_splitter.create_documents(train_docs_list)\n",
    "\n",
    "db = FAISS.from_documents(docs_for_rag, embeddings)"
   ]
  },
  {
   "cell_type": "code",
   "execution_count": 14,
   "metadata": {},
   "outputs": [],
   "source": [
    "retriever = db.as_retriever(search_kwargs={\"k\": 5})"
   ]
  },
  {
   "attachments": {},
   "cell_type": "markdown",
   "metadata": {},
   "source": [
    "## 3. RAG active"
   ]
  },
  {
   "cell_type": "code",
   "execution_count": 15,
   "metadata": {},
   "outputs": [],
   "source": [
    "from langchain.schema.runnable import RunnablePassthrough\n",
    "from langchain.schema import StrOutputParser\n",
    "from langchain import hub\n",
    "from langchain.chat_models import ChatOpenAI\n",
    "from getpass import getpass\n",
    "\n",
    "openai_api_key = getpass(\"OpenAI API Key: \")\n"
   ]
  },
  {
   "cell_type": "code",
   "execution_count": 16,
   "metadata": {},
   "outputs": [
    {
     "name": "stderr",
     "output_type": "stream",
     "text": [
      "/home/rdecoupe/mambaforge/envs/mood_luca_review_avian_flu/lib/python3.10/site-packages/langchain_core/_api/deprecation.py:139: LangChainDeprecationWarning: The class `ChatOpenAI` was deprecated in LangChain 0.0.10 and will be removed in 0.3.0. An updated version of the class exists in the langchain-openai package and should be used instead. To use it run `pip install -U langchain-openai` and import as `from langchain_openai import ChatOpenAI`.\n",
      "  warn_deprecated(\n"
     ]
    }
   ],
   "source": [
    "from langchain.prompts import ChatPromptTemplate\n",
    "\n",
    "template = \"\"\"\n",
    "You are an assistant for question-answering tasks. Use the following pieces of retrieved context as example to help to extract covariates or risk factors from the sentence only (don't extract from the context please). If you don't know the answer, just say that you don't know. Use three sentences maximum and keep the answer concise.\n",
    "Question: {question} \n",
    "Context: {context} \n",
    "Answer:\n",
    "\"\"\"\n",
    "prompt_template = ChatPromptTemplate.from_template(template)\n",
    "\n",
    "rag_chain_gpt4 = (\n",
    "    {\"context\": retriever, \"question\": RunnablePassthrough()}\n",
    "    # | hub.pull(\"rlm/rag-prompt\")\n",
    "    | prompt_template\n",
    "    # | ChatOpenAI(model_name=\"gpt-3.5-turbo\", temperature=0, openai_api_key=openai_api_key)\n",
    "    | ChatOpenAI(model_name=\"gpt-4\", temperature=0, openai_api_key=openai_api_key)\n",
    "    | StrOutputParser()\n",
    ")"
   ]
  },
  {
   "cell_type": "code",
   "execution_count": 17,
   "metadata": {},
   "outputs": [
    {
     "data": {
      "text/plain": [
       "'The sentence does not explicitly mention any covariates or risk factors.'"
      ]
     },
     "execution_count": 17,
     "metadata": {},
     "output_type": "execute_result"
    }
   ],
   "source": [
    "sentence = \"\"\"g10 (i.e. a 90% reduction in infectivity). These Rt values were based on the averages reported by Keeler et al. (2014) for resistance of 9 LPAIV strains in distilled, ï¬ltered and natural water (67.1, 3.1 and 30.0 days, respectively), and were also in accordance with previously published data (e.g. Stallknecht et al., 1991; Brown et al., 2009; Lebarbenchon et al., 2012 ). 2.7. The numerical model I\"\"\"\n",
    "\n",
    "rag_chain_gpt4.invoke(\"Is there any covariate (or risk factor) in this following sentence: \\n \" + sentence)"
   ]
  },
  {
   "cell_type": "code",
   "execution_count": 18,
   "metadata": {},
   "outputs": [],
   "source": [
    "results_list = []\n",
    "\n",
    "for sentence in test_docs_list:\n",
    "    res = rag_chain_gpt4.invoke(\"Is there any covariate (or risk factor) in this following sentence: \\n \" + sentence)\n",
    "    results_list.append(res)"
   ]
  },
  {
   "attachments": {},
   "cell_type": "markdown",
   "metadata": {},
   "source": []
  },
  {
   "cell_type": "code",
   "execution_count": 19,
   "metadata": {},
   "outputs": [
    {
     "data": {
      "text/plain": [
       "['The sentence does not provide any covariates or risk factors.',\n",
       " 'The sentence does not provide any covariate or risk factor.',\n",
       " 'The sentence does not provide any covariate or risk factor.',\n",
       " 'The covariates or risk factors in the sentence are temperature (17 or 28°C), salinity (0 or 2% NaCl), and pH levels (ranging from 6.2 to 8.2).',\n",
       " 'The sentence is not in English and appears to be corrupted or improperly translated, making it impossible to extract any covariates or risk factors from it.',\n",
       " 'The covariate or risk factor in the sentence is Relative Humidity (RH).',\n",
       " 'The sentence does not provide any clear covariate or risk factor.',\n",
       " 'The sentence does not provide any clear covariates or risk factors.']"
      ]
     },
     "execution_count": 19,
     "metadata": {},
     "output_type": "execute_result"
    }
   ],
   "source": [
    "results_list"
   ]
  },
  {
   "cell_type": "code",
   "execution_count": 20,
   "metadata": {},
   "outputs": [
    {
     "data": {
      "text/plain": [
       "'elettes produites artiï¬\\x81ciellement Ã©tait favorisÃ©e par une RH faible [34]. De mÃªme, la transmission aÃ©rienne dâ€™une souche humaine chez le cochon dâ€™Inde Ã\\xa0 20â—¦C est plus efï¬\\x81cace pour une RH faible (20 Ã\\xa0 35 %) que pour des valeurs plus Ã©levÃ©es (50 et 80 %) (ï¬\\x81gure 3) [35]. NÃ©anmoins, certains isolats semblent Ãªtre plus stables Ã\\xa0 RH Ã©levÃ©e (70 %) que pour des valeurs intermÃ©diaires (50 %) [36]. Des modÃ¨ \\t covariable found: False: RH '"
      ]
     },
     "execution_count": 20,
     "metadata": {},
     "output_type": "execute_result"
    }
   ],
   "source": [
    "test_docs_list[5]"
   ]
  },
  {
   "cell_type": "code",
   "execution_count": 21,
   "metadata": {},
   "outputs": [
    {
     "name": "stdout",
     "output_type": "stream",
     "text": [
      "Nb of covariate found: 0 | 0.0\n"
     ]
    }
   ],
   "source": [
    "covariate_found = 0\n",
    "for res in results_list:\n",
    "    if res.lower().startswith(\"yes\"):\n",
    "        covariate_found += 1\n",
    "print(f\"Nb of covariate found: {covariate_found} | {100*covariate_found/len(test_docs_list)}\")"
   ]
  },
  {
   "cell_type": "code",
   "execution_count": 22,
   "metadata": {},
   "outputs": [
    {
     "name": "stdout",
     "output_type": "stream",
     "text": [
      " one standard deviation). TABLE 1 Estimated Z values for inï¬‚uenza aerosols determined at low, medium, and high relative humidity RH range (%)Estimated Zvalue95% conï¬denceinterval R 2Lower Upper 25â€“27 0.29 0.27 0.31 0.98550â€“54 0.27 0.26 0.31 0.99181â€“84 0.22 0.21 0.23 0.992McDevitt et al. 1668 aem.asm.org Applied and Environmental Microbiology on April 1, 2015 by UNIVERSITY OF STRATHCLYDE http://aem \t covariable found: False: Relative humidity  \n",
      " \tThe sentence does not provide any covariates or risk factors.\n",
      "standard deviation). TABLE 1 Estimated Z values for inï¬‚uenza aerosols determined at low, medium, and high relative humidity RH range (%)Estimated Zvalue95% conï¬denceinterval R 2Lower Upper 25â€“27 0.29 0.27 0.31 0.98550â€“54 0.27 0.26 0.31 0.99181â€“84 0.22 0.21 0.23 0.992McDevitt et al. 1668 aem.asm.org Applied and Environmental Microbiology on April 1, 2015 by UNIVERSITY OF STRATHCLYDE http://aem.asm. \t covariable found: False: Relative humidity  \n",
      " \tThe sentence does not provide any covariate or risk factor.\n",
      " for inï¬‚uenza aerosols determined at low, medium, and high relative humidity RH range (%)Estimated Zvalue95% conï¬denceinterval R 2Lower Upper 25â€“27 0.29 0.27 0.31 0.98550â€“54 0.27 0.26 0.31 0.99181â€“84 0.22 0.21 0.23 0.992McDevitt et al. 1668 aem.asm.org Applied and Environmental Microbiology on April 1, 2015 by UNIVERSITY OF STRATHCLYDE http://aem.asm.org/ Downloaded from \t covariable found: False: Relative humidity  \n",
      " \tThe sentence does not provide any covariate or risk factor.\n",
      "Ãªme laboratoire ont dÃ©montrÃ© le rÃ´le de ces trois facteurs pour la stabilitÃ© virale. Lâ€™Ã©quipe de Stallknecht a ainsi testÃ© la persistance des virus inï¬‚uenza aviaires Ã  17 ou 28â—¦C pour une salinitÃ© de 0 o u 2 % NaCl et un pH allant de 6,2 Ã  8,2 [20, 21]. Ces travaux ont montrÃ© que dans des conditions de salinitÃ© modÃ©rÃ©e (2 % NaCl), la persistance du virus, maximale Ã  pH 6,2, dÃ©croÃ®t aux pH plus Ã©le \t covariable found: False: salinité \n",
      " \tThe covariates or risk factors in the sentence are temperature (17 or 28°C), salinity (0 or 2% NaCl), and pH levels (ranging from 6.2 to 8.2).\n",
      "nce de particules viralesLÃ©gende : Individu infectÃ© Individu susceptible V oie de transmission RÃ©servoir abiotique ParamÃ¨tre en jeuMicro-gouttelette en suspensionDÃ©positionGouttelette projetÃ©e Figure 2. Voies de transmission des virus inï¬‚uenza A en milieu aquatique et aÃ©rien et facteurs environnementaux, inï¬‚uant sur la persistance virale dans lâ€™environnement. stabilitÃ© dans cet environnement reprÃ© \t covariable found: False: salinité \n",
      " \tThe sentence is not in English and appears to be corrupted or improperly translated, making it impossible to extract any covariates or risk factors from it.\n",
      "elettes produites artiï¬ciellement Ã©tait favorisÃ©e par une RH faible [34]. De mÃªme, la transmission aÃ©rienne dâ€™une souche humaine chez le cochon dâ€™Inde Ã  20â—¦C est plus efï¬cace pour une RH faible (20 Ã  35 %) que pour des valeurs plus Ã©levÃ©es (50 et 80 %) (ï¬gure 3) [35]. NÃ©anmoins, certains isolats semblent Ãªtre plus stables Ã  RH Ã©levÃ©e (70 %) que pour des valeurs intermÃ©diaires (50 %) [36]. Des modÃ¨ \t covariable found: False: RH  \n",
      " \tThe covariate or risk factor in the sentence is Relative Humidity (RH).\n",
      "Ã©e par une RH faible [34]. De mÃªme, la transmission aÃ©rienne dâ€™une souche humaine chez le cochon dâ€™Inde Ã  20â—¦C est plus efï¬cace pour une RH faible (20 Ã  35 %) que pour des valeurs plus Ã©levÃ©es (50 et 80 %) (ï¬gure 3) [35]. NÃ©anmoins, certains isolats semblent Ãªtre plus stables Ã  RH Ã©levÃ©e (70 %) que pour des valeurs intermÃ©diaires (50 %) [36]. Des modÃ¨les ont Ã©tÃ© conc Â¸us pour estimer la corrÃ©latio \t covariable found: False: RH  \n",
      " \tThe sentence does not provide any clear covariate or risk factor.\n",
      "rale ne diffÃ©rait pas entre les individus Ã©levÃ©s Ã  20 et 30â—¦C au cours de lâ€™Ã©tude suivante [38] aucune transmission aÃ©rienne nâ€™a eu lieu Ã  30â—¦C quelle que soit lâ€™RH, tandis quâ€™Ã  20â—¦C, seule une RH de 80 % inhibait totalement la transmission. Ces rÃ©sultats conï¬rment le rÃ´le de la tempÃ©rature sur la stabilitÃ© virale. Les modÃ¨les citÃ©s plus haut incorporant ces donnÃ©es montrent donc une meilleure tra \t covariable found: False: RH  \n",
      " \tThe sentence does not provide any clear covariates or risk factors.\n"
     ]
    }
   ],
   "source": [
    "for s, r in zip(test_docs_list, results_list):\n",
    "    print(f\"{s} \\n \\t{r}\")"
   ]
  },
  {
   "cell_type": "code",
   "execution_count": 23,
   "metadata": {},
   "outputs": [
    {
     "data": {
      "text/plain": [
       "ChatPromptTemplate(input_variables=['context', 'question'], metadata={'lc_hub_owner': 'rlm', 'lc_hub_repo': 'rag-prompt', 'lc_hub_commit_hash': '50442af133e61576e74536c6556cefe1fac147cad032f4377b60c436e6cdcb6e'}, messages=[HumanMessagePromptTemplate(prompt=PromptTemplate(input_variables=['context', 'question'], template=\"You are an assistant for question-answering tasks. Use the following pieces of retrieved context to answer the question. If you don't know the answer, just say that you don't know. Use three sentences maximum and keep the answer concise.\\nQuestion: {question} \\nContext: {context} \\nAnswer:\"))])"
      ]
     },
     "execution_count": 23,
     "metadata": {},
     "output_type": "execute_result"
    }
   ],
   "source": [
    "t = hub.pull(\"rlm/rag-prompt\")\n",
    "t"
   ]
  },
  {
   "attachments": {},
   "cell_type": "markdown",
   "metadata": {},
   "source": [
    "### Same with GPT3.5"
   ]
  },
  {
   "cell_type": "code",
   "execution_count": 24,
   "metadata": {},
   "outputs": [],
   "source": [
    "rag_chain = (\n",
    "    {\"context\": retriever, \"question\": RunnablePassthrough()}\n",
    "    # | hub.pull(\"rlm/rag-prompt\")\n",
    "    | prompt_template\n",
    "    | ChatOpenAI(model_name=\"gpt-3.5-turbo\", temperature=0, openai_api_key=openai_api_key)\n",
    "    # | ChatOpenAI(model_name=\"gpt-4\", temperature=0, openai_api_key=openai_api_key)\n",
    "    | StrOutputParser()\n",
    ")"
   ]
  },
  {
   "cell_type": "code",
   "execution_count": 25,
   "metadata": {},
   "outputs": [],
   "source": [
    "results_list_gpt3_5 = []\n",
    "\n",
    "for sentence in test_docs_list:\n",
    "    res = rag_chain.invoke(\"Is there any covariate (or risk factor) in this following sentence: \\n \" + sentence)\n",
    "    results_list_gpt3_5.append(res)"
   ]
  },
  {
   "cell_type": "code",
   "execution_count": 26,
   "metadata": {},
   "outputs": [
    {
     "name": "stdout",
     "output_type": "stream",
     "text": [
      " one standard deviation). TABLE 1 Estimated Z values for inï¬‚uenza aerosols determined at low, medium, and high relative humidity RH range (%)Estimated Zvalue95% conï¬denceinterval R 2Lower Upper 25â€“27 0.29 0.27 0.31 0.98550â€“54 0.27 0.26 0.31 0.99181â€“84 0.22 0.21 0.23 0.992McDevitt et al. 1668 aem.asm.org Applied and Environmental Microbiology on April 1, 2015 by UNIVERSITY OF STRATHCLYDE http://aem \t covariable found: False: Relative humidity  \n",
      " \tCovariate found: Relative humidity, Absolute humidity, Wind-borne transmission.\n",
      "standard deviation). TABLE 1 Estimated Z values for inï¬‚uenza aerosols determined at low, medium, and high relative humidity RH range (%)Estimated Zvalue95% conï¬denceinterval R 2Lower Upper 25â€“27 0.29 0.27 0.31 0.98550â€“54 0.27 0.26 0.31 0.99181â€“84 0.22 0.21 0.23 0.992McDevitt et al. 1668 aem.asm.org Applied and Environmental Microbiology on April 1, 2015 by UNIVERSITY OF STRATHCLYDE http://aem.asm. \t covariable found: False: Relative humidity  \n",
      " \tCovariate found: False: Relative humidity, Absolute humidity, wind-borne, distance, transmission related to wind, filtered water.\n",
      " for inï¬‚uenza aerosols determined at low, medium, and high relative humidity RH range (%)Estimated Zvalue95% conï¬denceinterval R 2Lower Upper 25â€“27 0.29 0.27 0.31 0.98550â€“54 0.27 0.26 0.31 0.99181â€“84 0.22 0.21 0.23 0.992McDevitt et al. 1668 aem.asm.org Applied and Environmental Microbiology on April 1, 2015 by UNIVERSITY OF STRATHCLYDE http://aem.asm.org/ Downloaded from \t covariable found: False: Relative humidity  \n",
      " \tCovariate found: False: Relative humidity, Absolute humidity, transmission related to wind, wind-borne, distance, natural water.\n",
      "Ãªme laboratoire ont dÃ©montrÃ© le rÃ´le de ces trois facteurs pour la stabilitÃ© virale. Lâ€™Ã©quipe de Stallknecht a ainsi testÃ© la persistance des virus inï¬‚uenza aviaires Ã  17 ou 28â—¦C pour une salinitÃ© de 0 o u 2 % NaCl et un pH allant de 6,2 Ã  8,2 [20, 21]. Ces travaux ont montrÃ© que dans des conditions de salinitÃ© modÃ©rÃ©e (2 % NaCl), la persistance du virus, maximale Ã  pH 6,2, dÃ©croÃ®t aux pH plus Ã©le \t covariable found: False: salinité \n",
      " \tCovariate found: salinity\n",
      "Covariate found: temperature\n",
      "Covariate found: natural water\n",
      "nce de particules viralesLÃ©gende : Individu infectÃ© Individu susceptible V oie de transmission RÃ©servoir abiotique ParamÃ¨tre en jeuMicro-gouttelette en suspensionDÃ©positionGouttelette projetÃ©e Figure 2. Voies de transmission des virus inï¬‚uenza A en milieu aquatique et aÃ©rien et facteurs environnementaux, inï¬‚uant sur la persistance virale dans lâ€™environnement. stabilitÃ© dans cet environnement reprÃ© \t covariable found: False: salinité \n",
      " \tCovariate found: True: wind direction\n",
      "Covariate found: False: salinity\n",
      "Covariate found: False: Absolute humidity\n",
      "elettes produites artiï¬ciellement Ã©tait favorisÃ©e par une RH faible [34]. De mÃªme, la transmission aÃ©rienne dâ€™une souche humaine chez le cochon dâ€™Inde Ã  20â—¦C est plus efï¬cace pour une RH faible (20 Ã  35 %) que pour des valeurs plus Ã©levÃ©es (50 et 80 %) (ï¬gure 3) [35]. NÃ©anmoins, certains isolats semblent Ãªtre plus stables Ã  RH Ã©levÃ©e (70 %) que pour des valeurs intermÃ©diaires (50 %) [36]. Des modÃ¨ \t covariable found: False: RH  \n",
      " \tThe covariate found in the sentence is RH (relative humidity).\n",
      "Ã©e par une RH faible [34]. De mÃªme, la transmission aÃ©rienne dâ€™une souche humaine chez le cochon dâ€™Inde Ã  20â—¦C est plus efï¬cace pour une RH faible (20 Ã  35 %) que pour des valeurs plus Ã©levÃ©es (50 et 80 %) (ï¬gure 3) [35]. NÃ©anmoins, certains isolats semblent Ãªtre plus stables Ã  RH Ã©levÃ©e (70 %) que pour des valeurs intermÃ©diaires (50 %) [36]. Des modÃ¨les ont Ã©tÃ© conc Â¸us pour estimer la corrÃ©latio \t covariable found: False: RH  \n",
      " \tI don't know.\n",
      "rale ne diffÃ©rait pas entre les individus Ã©levÃ©s Ã  20 et 30â—¦C au cours de lâ€™Ã©tude suivante [38] aucune transmission aÃ©rienne nâ€™a eu lieu Ã  30â—¦C quelle que soit lâ€™RH, tandis quâ€™Ã  20â—¦C, seule une RH de 80 % inhibait totalement la transmission. Ces rÃ©sultats conï¬rment le rÃ´le de la tempÃ©rature sur la stabilitÃ© virale. Les modÃ¨les citÃ©s plus haut incorporant ces donnÃ©es montrent donc une meilleure tra \t covariable found: False: RH  \n",
      " \tCovariate found: True: wind direction\n",
      "Covariate found: False: Absolute humidity\n",
      "Covariate found: False: AH (absolute humidity)\n"
     ]
    }
   ],
   "source": [
    "for s, r in zip(test_docs_list, results_list_gpt3_5):\n",
    "    print(f\"{s} \\n \\t{r}\")"
   ]
  },
  {
   "cell_type": "code",
   "execution_count": 27,
   "metadata": {},
   "outputs": [
    {
     "data": {
      "text/plain": [
       "['Covariate found: Relative humidity, Absolute humidity, Wind-borne transmission.',\n",
       " 'Covariate found: False: Relative humidity, Absolute humidity, wind-borne, distance, transmission related to wind, filtered water.',\n",
       " 'Covariate found: False: Relative humidity, Absolute humidity, transmission related to wind, wind-borne, distance, natural water.',\n",
       " 'Covariate found: salinity\\nCovariate found: temperature\\nCovariate found: natural water',\n",
       " 'Covariate found: True: wind direction\\nCovariate found: False: salinity\\nCovariate found: False: Absolute humidity',\n",
       " 'The covariate found in the sentence is RH (relative humidity).',\n",
       " \"I don't know.\",\n",
       " 'Covariate found: True: wind direction\\nCovariate found: False: Absolute humidity\\nCovariate found: False: AH (absolute humidity)']"
      ]
     },
     "execution_count": 27,
     "metadata": {},
     "output_type": "execute_result"
    }
   ],
   "source": [
    "results_list_gpt3_5"
   ]
  },
  {
   "attachments": {},
   "cell_type": "markdown",
   "metadata": {},
   "source": [
    "## 4. Infer on all diseases"
   ]
  },
  {
   "cell_type": "code",
   "execution_count": 28,
   "metadata": {},
   "outputs": [],
   "source": [
    "from grobid.tei import Parser\n",
    "import os\n",
    "import json"
   ]
  },
  {
   "cell_type": "code",
   "execution_count": 54,
   "metadata": {},
   "outputs": [],
   "source": [
    "tei_files_path = \"./data/grobid/\"\n",
    "\n",
    "tei_file_example = \"./data/grobid/CC10 Aerosol Susceptibility of Influenza Virus to UV-C Light.pdf.tei.xml\"\n",
    "\n",
    "# list_of_diseases = [\"chikungunya\", \"leptospirosi\", \"influenza\" ]\n",
    "list_of_diseases = [\"influenza\" ]\n",
    "sections_to_keep = [\"abstract\", \"results\", \"discussion\"]\n",
    "chunk_size = 256\n",
    "\n",
    "list_of_base_models = [\"GPT-3.5\", \"GPT-4\"]\n",
    "# list_of_base_models = [\"GPT-4\"]\n",
    "# list_of_base_models = [\"GPT-3.5\"]\n"
   ]
  },
  {
   "cell_type": "code",
   "execution_count": 52,
   "metadata": {},
   "outputs": [],
   "source": [
    "def chunk_relevant_sections(tei_file):\n",
    "    chunks = []\n",
    "    md = {\n",
    "        \"title\": tei_file.split(\"/\")[-1],\n",
    "        \"id\": (tei_file.split(\"/\")[-1]).split(\" \")[0],\n",
    "    }\n",
    "\n",
    "    # load PDF into python dict\n",
    "    with open(tei_file, \"rb\") as xml_file:\n",
    "        xml_content = xml_file.read()\n",
    "    parser = Parser(xml_content)\n",
    "    article = parser.parse()\n",
    "    article = json.loads(article.to_json())\n",
    "\n",
    "    # work on abstract\n",
    "    abstract = article[\"abstract\"]\n",
    "    for p, paragraph in enumerate(abstract[\"paragraphs\"]):\n",
    "        for i in range(0, len(paragraph[\"text\"]), chunk_size):\n",
    "            # print(f\"{i} : {(i)} | {i + chunk_size -1}\")\n",
    "            chunk_with_md = md.copy()\n",
    "            chunk_with_md[\"section\"] = \"abstract\"\n",
    "            chunk_with_md[\"paragraph_nb\"] = p\n",
    "            chunk_with_md[\"chunk_nb\"] = i/chunk_size\n",
    "            chunk_with_md[\"text\"] = paragraph[\"text\"][i:i+chunk_size-1]\n",
    "            chunks.append(chunk_with_md)\n",
    "\n",
    "    # work on usefull sections\n",
    "    for s in article[\"sections\"]:\n",
    "        if (s[\"title\"].lower() in sections_to_keep):\n",
    "            for p, paragraph in enumerate(s[\"paragraphs\"]):\n",
    "                for i in range(0, len(paragraph[\"text\"]), chunk_size):\n",
    "                    # print(f\"{i} : {(i)} | {i + chunk_size -1}\")\n",
    "                    chunk_with_md = md.copy()\n",
    "                    chunk_with_md[\"section\"] = s[\"title\"]\n",
    "                    chunk_with_md[\"paragraph_nb\"] = p\n",
    "                    chunk_with_md[\"chunk_nb\"] = i/chunk_size\n",
    "                    chunk_with_md[\"text\"] = paragraph[\"text\"][i:i+chunk_size-1]\n",
    "                    chunks.append(chunk_with_md)\n",
    "    \n",
    "    return chunks\n",
    "\n",
    "def extract_covariates(text):\n",
    "    # Split the text into lines\n",
    "    lines = text.split('\\n')\n",
    "    # Extract covariates using list comprehension\n",
    "    covariates = [line.split(': ')[1].strip().rstrip('.') for line in lines if 'Covariate found:' in line or 'No covariate found:' in line]\n",
    "    # Join the covariates into a single string\n",
    "    return [', '.join(covariates)]\n"
   ]
  },
  {
   "cell_type": "code",
   "execution_count": 55,
   "metadata": {},
   "outputs": [
    {
     "name": "stdout",
     "output_type": "stream",
     "text": [
      "Work on: GPT-3.5\n",
      "Work on: GPT-4\n"
     ]
    }
   ],
   "source": [
    "for disease in list_of_diseases:\n",
    "    tei_files_path_disease = tei_files_path + \"/\" + disease\n",
    "\n",
    "    list_of_chunk = []\n",
    "    for doc in os.listdir(tei_files_path_disease):\n",
    "        list_of_chunk.extend(chunk_relevant_sections( os.path.join(tei_files_path_disease, doc)))\n",
    "    df = pd.DataFrame(list_of_chunk)\n",
    "\n",
    "    for pretrained_model in list_of_base_models:\n",
    "        print(f\"Work on: {pretrained_model}\")\n",
    "        results_list_infer_gpt3_5 = []\n",
    "\n",
    "        for sentence in df[\"text\"]:\n",
    "        # for sentence in df.iloc[0:3][\"text\"]:\n",
    "            if pretrained_model == 'GPT-3.5':\n",
    "                res = rag_chain.invoke(\"Is there any covariate (or risk factor) in this following sentence: \\n \" + sentence)\n",
    "            else:\n",
    "                res = rag_chain_gpt4.invoke(\"Is there any covariate (or risk factor) in this following sentence: \\n \" + sentence + \"please provide only a python list like '[temperature, humidity] without any explanation'\")\n",
    "            results_list_infer_gpt3_5.append(res)\n",
    "        \n",
    "        df[pretrained_model] = pd.DataFrame(results_list_infer_gpt3_5)\n",
    "        if pretrained_model == 'GPT-3.5':#need to parse because GPT-3.5 doest not follow well the instructions\n",
    "            df[pretrained_model] = df[pretrained_model].apply(extract_covariates)\n",
    "    \n",
    "    df.to_csv(f\"./data/whole_inference_llm_{disease}.csv\")\n",
    "\n"
   ]
  },
  {
   "cell_type": "code",
   "execution_count": null,
   "metadata": {},
   "outputs": [],
   "source": [
    "# df[pretrained_model] = df[pretrained_model].apply(extract_covariates)\n",
    "# df.to_csv(f\"./data/whole_inference_llm_{disease}.csv\")"
   ]
  }
 ],
 "metadata": {
  "kernelspec": {
   "display_name": "mood_luca_review",
   "language": "python",
   "name": "python3"
  },
  "language_info": {
   "codemirror_mode": {
    "name": "ipython",
    "version": 3
   },
   "file_extension": ".py",
   "mimetype": "text/x-python",
   "name": "python",
   "nbconvert_exporter": "python",
   "pygments_lexer": "ipython3",
   "version": "3.10.6"
  },
  "orig_nbformat": 4
 },
 "nbformat": 4,
 "nbformat_minor": 2
}
